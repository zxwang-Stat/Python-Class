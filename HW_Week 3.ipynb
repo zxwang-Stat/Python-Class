{
 "cells": [
  {
   "cell_type": "markdown",
   "id": "82b2e9db",
   "metadata": {},
   "source": [
    "1. Given two strings s and t, return true if t is an anagram of s, and false otherwise. (Using Dictionary)"
   ]
  },
  {
   "cell_type": "code",
   "execution_count": 1,
   "id": "e098e1ff",
   "metadata": {},
   "outputs": [],
   "source": [
    "def IsAnagram(s,t):\n",
    "    if len(s) != len(t):\n",
    "        return False\n",
    "    else:\n",
    "        s_count = {}  # 以“键值对”方式，存储字符串s的各字母及字母个数\n",
    "        t_count = {}  # t同理\n",
    "        for char in s:\n",
    "            s_count[char] = s_count.get(char, 0) + 1 # 字典的函数.get()可以根据key获取对应的value，无对应的key则返回默认值0\n",
    "        for char in t:\n",
    "            t_count[char] = t_count.get(char, 0) + 1\n",
    "        return s_count == t_count"
   ]
  },
  {
   "cell_type": "code",
   "execution_count": 2,
   "id": "6d7c626e",
   "metadata": {},
   "outputs": [
    {
     "name": "stdout",
     "output_type": "stream",
     "text": [
      "True\n"
     ]
    }
   ],
   "source": [
    "# Example\n",
    "s = \"anagram\"\n",
    "t = \"nagaram\"\n",
    "print(IsAnagram(s,t))"
   ]
  },
  {
   "cell_type": "markdown",
   "id": "a9057bd6",
   "metadata": {},
   "source": [
    "2. Given a non-negative integer x, compute and return the square root of x. Since the return type is an integer, the decimal digits are truncated, and only the integer part of the result is returned.\n",
    "\n",
    "    Note: You are not allowed to use any built-in exponent function or operator, such as pow(x, 0.5) or x ** 0.5."
   ]
  },
  {
   "cell_type": "code",
   "execution_count": 1,
   "id": "9871ccae",
   "metadata": {},
   "outputs": [],
   "source": [
    "def MySqrt(x):\n",
    "    if x == 0 or x == 1:\n",
    "        return x\n",
    "    left, right = 0, x  # 规定搜索范围\n",
    "\n",
    "    while left <= right: \n",
    "        # 循环直到left大于right才会中止，要么是mid - 1小于了left，要么是mid + 1大于了right\n",
    "        # 如果等于（即left=right），那么还要再跑一轮循环\n",
    "        \n",
    "        \n",
    "        mid = (left + right) // 2   # 二分法，取整数中值，mid肯定是被left和right所bound住的\n",
    "        \n",
    "        if mid * mid == x:\n",
    "            return mid\n",
    "        elif mid * mid < x:\n",
    "            # 如果mid的平方小了，那么有两种可能：\n",
    "            # 1、这就是result（即平方小于x的最大整数）\n",
    "            # 2、这不是result，真正的result还要更大些\n",
    "            left = mid + 1  # 如果是情况2，那么我们应该把搜索范围下界提高至 mid + 1\n",
    "            result = mid # 因为情况1可能发生，所以先存着当前的mid\n",
    "        else:\n",
    "            right = mid - 1  # 如果mid的平方超了，那就说明result一定小于mid，所以搜索范围上界可以划为 mid - 1\n",
    "    \n",
    "    return result"
   ]
  },
  {
   "cell_type": "code",
   "execution_count": 5,
   "id": "e0626e99",
   "metadata": {},
   "outputs": [
    {
     "data": {
      "text/plain": [
       "2"
      ]
     },
     "execution_count": 5,
     "metadata": {},
     "output_type": "execute_result"
    }
   ],
   "source": [
    "# Example\n",
    "x = 8\n",
    "MySqrt(x)"
   ]
  }
 ],
 "metadata": {
  "kernelspec": {
   "display_name": "Python 3 (ipykernel)",
   "language": "python",
   "name": "python3"
  },
  "language_info": {
   "codemirror_mode": {
    "name": "ipython",
    "version": 3
   },
   "file_extension": ".py",
   "mimetype": "text/x-python",
   "name": "python",
   "nbconvert_exporter": "python",
   "pygments_lexer": "ipython3",
   "version": "3.11.5"
  }
 },
 "nbformat": 4,
 "nbformat_minor": 5
}
