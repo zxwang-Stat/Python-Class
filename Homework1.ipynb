{
 "cells": [
  {
   "cell_type": "code",
   "execution_count": 15,
   "metadata": {},
   "outputs": [],
   "source": [
    "def multiplication_table_matrix():\n",
    "    matrix = [[0] * (i+1) for i in range(9)]  # 创建矩阵\n",
    "\n",
    "    for i in range(1, 10):\n",
    "        for j in range(1, i+1):\n",
    "            result = i * j\n",
    "            matrix[i - 1][j - 1] = \"{}*{}={}\".format(j, i, result)\n",
    "\n",
    "    return matrix\n",
    "\n",
    "# 调用函数生成九九乘法表矩阵\n",
    "table_matrix = multiplication_table_matrix()"
   ]
  },
  {
   "cell_type": "code",
   "execution_count": 23,
   "metadata": {},
   "outputs": [
    {
     "name": "stdout",
     "output_type": "stream",
     "text": [
      "1*1=1\n",
      "1*2=2 2*2=4\n",
      "1*3=3 2*3=6  3*3=9\n",
      "1*4=4 2*4=8  3*4=12 4*4=16\n",
      "1*5=5 2*5=10 3*5=15 4*5=20 5*5=25\n",
      "1*6=6 2*6=12 3*6=18 4*6=24 5*6=30 6*6=36\n",
      "1*7=7 2*7=14 3*7=21 4*7=28 5*7=35 6*7=42 7*7=49\n",
      "1*8=8 2*8=16 3*8=24 4*8=32 5*8=40 6*8=48 7*8=56 8*8=64\n",
      "1*9=9 2*9=18 3*9=27 4*9=36 5*9=45 6*9=54 7*9=63 8*9=72 9*9=81\n"
     ]
    }
   ],
   "source": [
    "# 打印矩阵\n",
    "for row in table_matrix:\n",
    "    if row == table_matrix[2]:\n",
    "        print(row[0]+\" \"+row[1]+\"  \"+row[2])\n",
    "    elif row == table_matrix[3]:\n",
    "        print(row[0]+\" \"+row[1]+\"  \"+row[2]+\" \"+row[3])\n",
    "    else:\n",
    "        print(\" \".join(row))"
   ]
  }
 ],
 "metadata": {
  "kernelspec": {
   "display_name": "Python 3",
   "language": "python",
   "name": "python3"
  },
  "language_info": {
   "codemirror_mode": {
    "name": "ipython",
    "version": 3
   },
   "file_extension": ".py",
   "mimetype": "text/x-python",
   "name": "python",
   "nbconvert_exporter": "python",
   "pygments_lexer": "ipython3",
   "version": "3.8.5"
  }
 },
 "nbformat": 4,
 "nbformat_minor": 4
}
